{
  "nbformat": 4,
  "nbformat_minor": 0,
  "metadata": {
    "colab": {
      "name": "Catatan (29 Sept 2021).ipynb",
      "provenance": [],
      "collapsed_sections": [],
      "authorship_tag": "ABX9TyM02JQ6lERr5+1Y3hOPmb1v",
      "include_colab_link": true
    },
    "kernelspec": {
      "name": "python3",
      "display_name": "Python 3"
    },
    "language_info": {
      "name": "python"
    }
  },
  "cells": [
    {
      "cell_type": "markdown",
      "metadata": {
        "id": "view-in-github",
        "colab_type": "text"
      },
      "source": [
        "<a href=\"https://colab.research.google.com/github/wirahmat/Software_Enginering_Muhammad_Anggi_Wirahmat/blob/main/Catatan(29_Sept_2021).ipynb\" target=\"_parent\"><img src=\"https://colab.research.google.com/assets/colab-badge.svg\" alt=\"Open In Colab\"/></a>"
      ]
    },
    {
      "cell_type": "code",
      "metadata": {
        "id": "ZBBWb39XbO5G"
      },
      "source": [
        "#List[], Dictionary{},Tuple(), Set{}, Looping, Function"
      ],
      "execution_count": null,
      "outputs": []
    },
    {
      "cell_type": "code",
      "metadata": {
        "colab": {
          "base_uri": "https://localhost:8080/"
        },
        "id": "05HVkghYdmFK",
        "outputId": "52295cc4-a399-4747-9298-77ed8b96f3f4"
      },
      "source": [
        "#List\n",
        "listqu = [\"Wirahmat\", 20, 30.0, ['Muhammad', 'Wirahmat'], {}, (), True]\n",
        "print(listqu[0])\n",
        "print(listqu[1])\n",
        "print(listqu[-1])"
      ],
      "execution_count": null,
      "outputs": [
        {
          "output_type": "stream",
          "name": "stdout",
          "text": [
            "Wirahmat\n",
            "20\n",
            "True\n"
          ]
        }
      ]
    },
    {
      "cell_type": "code",
      "metadata": {
        "colab": {
          "base_uri": "https://localhost:8080/"
        },
        "id": "xgCSoGyreF3h",
        "outputId": "f09a9c7d-502d-458c-b64e-a616739d86bd"
      },
      "source": [
        "#Dictionary\n",
        "dictqu = {1:\"Wirahmat\", \"Dua Puluh\":20, False:2.0, \"Boolean\":True}\n",
        "print(dictqu[1])\n",
        "print(dictqu[\"Dua Puluh\"])\n",
        "print(dictqu[\"Boolean\"])\n"
      ],
      "execution_count": null,
      "outputs": [
        {
          "output_type": "stream",
          "name": "stdout",
          "text": [
            "Wirahmat\n",
            "20\n",
            "True\n"
          ]
        }
      ]
    },
    {
      "cell_type": "code",
      "metadata": {
        "colab": {
          "base_uri": "https://localhost:8080/"
        },
        "id": "lfzrGH1xfOCr",
        "outputId": "499b3e81-c28d-411e-9884-2fbf3676f318"
      },
      "source": [
        "#Salah satu Contoh methode di dict\n",
        "dictqu.keys()"
      ],
      "execution_count": null,
      "outputs": [
        {
          "output_type": "execute_result",
          "data": {
            "text/plain": [
              "dict_keys([1, 'Dua Puluh', False, 'Boolean'])"
            ]
          },
          "metadata": {},
          "execution_count": 5
        }
      ]
    },
    {
      "cell_type": "code",
      "metadata": {
        "colab": {
          "base_uri": "https://localhost:8080/"
        },
        "id": "3wLvDS-vi3Ck",
        "outputId": "711be279-9f55-4bd0-d503-79fd2da33f9c"
      },
      "source": [
        "dictqu[\"Muhammad Anggi\"] = [100]\n",
        "print(dictqu)"
      ],
      "execution_count": null,
      "outputs": [
        {
          "output_type": "stream",
          "name": "stdout",
          "text": [
            "{1: 'Wirahmat', 'Dua Puluh': 20, False: 2.0, 'Boolean': True, 'Muhammad Anggi': [100]}\n"
          ]
        }
      ]
    },
    {
      "cell_type": "code",
      "metadata": {
        "colab": {
          "base_uri": "https://localhost:8080/"
        },
        "id": "1piSnn4njsfd",
        "outputId": "83ed07fb-1532-4f82-f60c-bcac5d690edc"
      },
      "source": [
        "dictqu[\"Muhammad Anggi\"].append(200)\n",
        "print(dictqu)"
      ],
      "execution_count": null,
      "outputs": [
        {
          "output_type": "stream",
          "name": "stdout",
          "text": [
            "{1: 'Wirahmat', 'Dua Puluh': 20, False: 2.0, 'Boolean': True, 'Muhammad Anggi': [100, 200]}\n"
          ]
        }
      ]
    },
    {
      "cell_type": "code",
      "metadata": {
        "colab": {
          "base_uri": "https://localhost:8080/"
        },
        "id": "DAk5M4Uzkn8R",
        "outputId": "51605097-7f43-4a69-98dc-15a5438bf356"
      },
      "source": [
        "#dictqu.pop(\"Muhammad Anggi\")\n",
        "#del dictqu[\"Muhammad Anggi\"]\n",
        "dictqu[\"Muhammad Anggi\"] = None\n",
        "print(dictqu)"
      ],
      "execution_count": null,
      "outputs": [
        {
          "output_type": "stream",
          "name": "stdout",
          "text": [
            "{1: 'Wirahmat', 'Dua Puluh': 20, False: 2.0, 'Boolean': True, 'Muhammad Anggi': None}\n"
          ]
        }
      ]
    },
    {
      "cell_type": "code",
      "metadata": {
        "id": "pYGqtsXefmdN"
      },
      "source": [
        "#Contoh methode di list\n",
        "list1 = [1,2,3,4,5,6,7]"
      ],
      "execution_count": null,
      "outputs": []
    },
    {
      "cell_type": "code",
      "metadata": {
        "colab": {
          "base_uri": "https://localhost:8080/"
        },
        "id": "ZUhYjrO4f3R2",
        "outputId": "f8cfdc35-b1b1-4c39-b58e-ee6ab722a1d3"
      },
      "source": [
        "list1.append(\"Wirahmat\")\n",
        "list1"
      ],
      "execution_count": null,
      "outputs": [
        {
          "output_type": "execute_result",
          "data": {
            "text/plain": [
              "[1, 2, 3, 4, 5, 6, 7, 'Wirahmat']"
            ]
          },
          "metadata": {},
          "execution_count": 13
        }
      ]
    },
    {
      "cell_type": "code",
      "metadata": {
        "colab": {
          "base_uri": "https://localhost:8080/"
        },
        "id": "yFNmvpekgAio",
        "outputId": "43536119-37be-4d55-ed6b-9da36a7b960c"
      },
      "source": [
        "list1.insert(2,\"Anggi\")\n",
        "list1"
      ],
      "execution_count": null,
      "outputs": [
        {
          "output_type": "execute_result",
          "data": {
            "text/plain": [
              "[1, 2, 'Anggi', 3, 4, 5, 6, 7, 'Wirahmat']"
            ]
          },
          "metadata": {},
          "execution_count": 15
        }
      ]
    },
    {
      "cell_type": "code",
      "metadata": {
        "colab": {
          "base_uri": "https://localhost:8080/"
        },
        "id": "LOJrqAzbgQA7",
        "outputId": "8b9ff8a1-e820-4437-8ae5-e542add8e816"
      },
      "source": [
        "listangka = [0,8,6,4,23,7,8,8]\n",
        "listangka.sort()\n",
        "listangka"
      ],
      "execution_count": null,
      "outputs": [
        {
          "output_type": "execute_result",
          "data": {
            "text/plain": [
              "[0, 4, 6, 7, 8, 8, 8, 23]"
            ]
          },
          "metadata": {},
          "execution_count": 23
        }
      ]
    },
    {
      "cell_type": "code",
      "metadata": {
        "colab": {
          "base_uri": "https://localhost:8080/"
        },
        "id": "HBfc5WWbgpha",
        "outputId": "ebba4fbc-021b-4732-acce-658f67702a9e"
      },
      "source": [
        "listangka.sort(reverse=True)\n",
        "listangka"
      ],
      "execution_count": null,
      "outputs": [
        {
          "output_type": "execute_result",
          "data": {
            "text/plain": [
              "[23, 8, 8, 8, 7, 6, 4, 0]"
            ]
          },
          "metadata": {},
          "execution_count": 24
        }
      ]
    },
    {
      "cell_type": "code",
      "metadata": {
        "colab": {
          "base_uri": "https://localhost:8080/"
        },
        "id": "qLrvY3oqgf9w",
        "outputId": "515f4e9f-846d-4340-b3ac-acfcd08d064b"
      },
      "source": [
        "listangka.pop()\n",
        "listangka"
      ],
      "execution_count": null,
      "outputs": [
        {
          "output_type": "execute_result",
          "data": {
            "text/plain": [
              "[23, 8, 8, 8, 7, 6, 4]"
            ]
          },
          "metadata": {},
          "execution_count": 25
        }
      ]
    },
    {
      "cell_type": "code",
      "metadata": {
        "colab": {
          "base_uri": "https://localhost:8080/"
        },
        "id": "eO2gLZkKgwSf",
        "outputId": "cdfe12cd-2932-4c19-f5e1-310a4e7dbb81"
      },
      "source": [
        "listangka.remove(8)\n",
        "listangka"
      ],
      "execution_count": null,
      "outputs": [
        {
          "output_type": "execute_result",
          "data": {
            "text/plain": [
              "[23, 8, 7, 6, 4]"
            ]
          },
          "metadata": {},
          "execution_count": 27
        }
      ]
    },
    {
      "cell_type": "code",
      "metadata": {
        "colab": {
          "base_uri": "https://localhost:8080/"
        },
        "id": "rfDJnFhfhFlx",
        "outputId": "5adda3f0-90b4-48b3-ab69-0d538f092e81"
      },
      "source": [
        "listangka.remove(listangka[1])\n",
        "listangka"
      ],
      "execution_count": null,
      "outputs": [
        {
          "output_type": "execute_result",
          "data": {
            "text/plain": [
              "[23, 7, 6, 4]"
            ]
          },
          "metadata": {},
          "execution_count": 29
        }
      ]
    },
    {
      "cell_type": "code",
      "metadata": {
        "colab": {
          "base_uri": "https://localhost:8080/"
        },
        "id": "eK8MzTIZg_2Q",
        "outputId": "77f89810-74aa-4445-8245-bb11dea39bff"
      },
      "source": [
        "#Set\n",
        "listangka_lain = [0,8,6,4,23,7,8]\n",
        "listangka_lain"
      ],
      "execution_count": null,
      "outputs": [
        {
          "output_type": "execute_result",
          "data": {
            "text/plain": [
              "['a', 'j', 'h', 'd', 'b']"
            ]
          },
          "metadata": {},
          "execution_count": 38
        }
      ]
    },
    {
      "cell_type": "code",
      "metadata": {
        "colab": {
          "base_uri": "https://localhost:8080/"
        },
        "id": "dlSowRPojarQ",
        "outputId": "079ff550-a249-4ea9-f0c7-1143a6a1112e"
      },
      "source": [
        "listhurup = [\"a\",\"j\",\"h\",\"d\",\"b\",\"b\"]\n",
        "listhurup"
      ],
      "execution_count": null,
      "outputs": [
        {
          "output_type": "execute_result",
          "data": {
            "text/plain": [
              "['a', 'j', 'h', 'd', 'b', 'b']"
            ]
          },
          "metadata": {},
          "execution_count": 46
        }
      ]
    },
    {
      "cell_type": "code",
      "metadata": {
        "colab": {
          "base_uri": "https://localhost:8080/"
        },
        "id": "upb3YaYKhs3y",
        "outputId": "bcd05379-f8d9-4a9e-cb55-838c16385d55"
      },
      "source": [
        "set_angka = set(listangka_lain)\n",
        "set_angka"
      ],
      "execution_count": null,
      "outputs": [
        {
          "output_type": "execute_result",
          "data": {
            "text/plain": [
              "{0, 4, 6, 7, 8, 23}"
            ]
          },
          "metadata": {},
          "execution_count": 33
        }
      ]
    },
    {
      "cell_type": "code",
      "metadata": {
        "colab": {
          "base_uri": "https://localhost:8080/"
        },
        "id": "YHQEUSdCjb9i",
        "outputId": "c960266f-ce59-4d38-bead-577077a86788"
      },
      "source": [
        "set_hurup = set(listhurup)\n",
        "set_hurup"
      ],
      "execution_count": null,
      "outputs": [
        {
          "output_type": "execute_result",
          "data": {
            "text/plain": [
              "{'a', 'b', 'd', 'h', 'j'}"
            ]
          },
          "metadata": {},
          "execution_count": 47
        }
      ]
    },
    {
      "cell_type": "code",
      "metadata": {
        "colab": {
          "base_uri": "https://localhost:8080/"
        },
        "id": "dtHMVrqKiaaI",
        "outputId": "e9ee010e-0979-4933-8382-dc08b23f7245"
      },
      "source": [
        "listangka_lainlain = list(set_angka)\n",
        "listangka_lainlain"
      ],
      "execution_count": null,
      "outputs": [
        {
          "output_type": "execute_result",
          "data": {
            "text/plain": [
              "[0, 4, 6, 7, 8, 23]"
            ]
          },
          "metadata": {},
          "execution_count": 34
        }
      ]
    },
    {
      "cell_type": "code",
      "metadata": {
        "colab": {
          "base_uri": "https://localhost:8080/"
        },
        "id": "een7uT9Highc",
        "outputId": "9a8f71c6-1e3a-455e-f063-ebfcdbcf5cd5"
      },
      "source": [
        "#Tuple\n",
        "tuple_angka = (1,5,6,3,67,7,5,6)\n",
        "tuple_angka[0]"
      ],
      "execution_count": null,
      "outputs": [
        {
          "output_type": "execute_result",
          "data": {
            "text/plain": [
              "1"
            ]
          },
          "metadata": {},
          "execution_count": 35
        }
      ]
    },
    {
      "cell_type": "code",
      "metadata": {
        "colab": {
          "base_uri": "https://localhost:8080/"
        },
        "id": "LoXnGmWCk7N8",
        "outputId": "3021f786-4e7f-497c-d8bd-871c8bb1a097"
      },
      "source": [
        "#Looping\n",
        "\n",
        "for i in range(5):\n",
        "  print(\"Gan\")"
      ],
      "execution_count": null,
      "outputs": [
        {
          "output_type": "stream",
          "name": "stdout",
          "text": [
            "Gan\n",
            "Gan\n",
            "Gan\n",
            "Gan\n",
            "Gan\n"
          ]
        }
      ]
    },
    {
      "cell_type": "code",
      "metadata": {
        "colab": {
          "base_uri": "https://localhost:8080/"
        },
        "id": "1K0bn61dlG-k",
        "outputId": "0f63fdb9-ccc2-4891-a438-741d99e54186"
      },
      "source": [
        "for i in range(5):\n",
        "  print(i)"
      ],
      "execution_count": null,
      "outputs": [
        {
          "output_type": "stream",
          "name": "stdout",
          "text": [
            "0\n",
            "1\n",
            "2\n",
            "3\n",
            "4\n"
          ]
        }
      ]
    },
    {
      "cell_type": "code",
      "metadata": {
        "colab": {
          "base_uri": "https://localhost:8080/"
        },
        "id": "eQupqQPflU_P",
        "outputId": "c38fd7af-9dfa-44da-c3a0-956734120589"
      },
      "source": [
        "for i in range(0,10,2):\n",
        "  print(i)"
      ],
      "execution_count": null,
      "outputs": [
        {
          "output_type": "stream",
          "name": "stdout",
          "text": [
            "0\n",
            "2\n",
            "4\n",
            "6\n",
            "8\n"
          ]
        }
      ]
    },
    {
      "cell_type": "code",
      "metadata": {
        "colab": {
          "base_uri": "https://localhost:8080/"
        },
        "id": "Vcw2M-2glZSU",
        "outputId": "817c5e88-044e-45ca-e646-6ae336a627ed"
      },
      "source": [
        "for i in range(10,0,-2):\n",
        "  print(i)"
      ],
      "execution_count": null,
      "outputs": [
        {
          "output_type": "stream",
          "name": "stdout",
          "text": [
            "10\n",
            "8\n",
            "6\n",
            "4\n",
            "2\n"
          ]
        }
      ]
    },
    {
      "cell_type": "code",
      "metadata": {
        "colab": {
          "base_uri": "https://localhost:8080/"
        },
        "id": "-gTi9G5oplo4",
        "outputId": "a4e81c45-16fb-4b07-d244-25e1dc649f81"
      },
      "source": [
        "for i in listangka:\n",
        "  print(i)"
      ],
      "execution_count": null,
      "outputs": [
        {
          "output_type": "stream",
          "name": "stdout",
          "text": [
            "23\n",
            "7\n",
            "6\n",
            "4\n"
          ]
        }
      ]
    },
    {
      "cell_type": "code",
      "metadata": {
        "colab": {
          "base_uri": "https://localhost:8080/"
        },
        "id": "wyJzYSw7qAh5",
        "outputId": "0b15f25a-8239-404c-e694-538449f88df3"
      },
      "source": [
        "for char in \"Muhammad Anggi\":\n",
        "  print(char)"
      ],
      "execution_count": null,
      "outputs": [
        {
          "output_type": "stream",
          "name": "stdout",
          "text": [
            "M\n",
            "u\n",
            "h\n",
            "a\n",
            "m\n",
            "m\n",
            "a\n",
            "d\n",
            " \n",
            "A\n",
            "n\n",
            "g\n",
            "g\n",
            "i\n"
          ]
        }
      ]
    },
    {
      "cell_type": "code",
      "metadata": {
        "colab": {
          "base_uri": "https://localhost:8080/"
        },
        "id": "SPRPRPW_qHgI",
        "outputId": "fe43658e-ce0d-4451-d7b1-c98e8a24dd1d"
      },
      "source": [
        "for i in listangka_lainlain:\n",
        "  if i == 0:\n",
        "    print(\"ada gan\")"
      ],
      "execution_count": null,
      "outputs": [
        {
          "output_type": "stream",
          "name": "stdout",
          "text": [
            "ada gan\n"
          ]
        }
      ]
    },
    {
      "cell_type": "code",
      "metadata": {
        "colab": {
          "base_uri": "https://localhost:8080/"
        },
        "id": "zNT8Dy04luP1",
        "outputId": "a1ff37ab-cd15-4251-cfd3-c94a4cf9897f"
      },
      "source": [
        "#While looping\n",
        "#while True:\n",
        "#  print(\"loop teroooosss\")\n",
        "a = 0\n",
        "while a<10:\n",
        "  print(\"a nya kecil yeeee, sekarang ke {}\".format(a))\n",
        "  a += 1"
      ],
      "execution_count": null,
      "outputs": [
        {
          "output_type": "stream",
          "name": "stdout",
          "text": [
            "a nya kecil yeeee, sekarang ke 0\n",
            "a nya kecil yeeee, sekarang ke 1\n",
            "a nya kecil yeeee, sekarang ke 2\n",
            "a nya kecil yeeee, sekarang ke 3\n",
            "a nya kecil yeeee, sekarang ke 4\n",
            "a nya kecil yeeee, sekarang ke 5\n",
            "a nya kecil yeeee, sekarang ke 6\n",
            "a nya kecil yeeee, sekarang ke 7\n",
            "a nya kecil yeeee, sekarang ke 8\n",
            "a nya kecil yeeee, sekarang ke 9\n"
          ]
        }
      ]
    },
    {
      "cell_type": "code",
      "metadata": {
        "colab": {
          "base_uri": "https://localhost:8080/"
        },
        "id": "O-n24u7xmV4h",
        "outputId": "969e2fce-780f-430e-e8c5-222e1c9a2a83"
      },
      "source": [
        "#While user input\n",
        "while True:\n",
        "  umur = int(input())\n",
        "  if umur >= 17:\n",
        "    break"
      ],
      "execution_count": null,
      "outputs": [
        {
          "name": "stdout",
          "output_type": "stream",
          "text": [
            "198\n"
          ]
        }
      ]
    },
    {
      "cell_type": "code",
      "metadata": {
        "colab": {
          "base_uri": "https://localhost:8080/"
        },
        "id": "TBVy0JwvmniP",
        "outputId": "ad172ce4-4908-43e0-f765-9e12a5b20f4f"
      },
      "source": [
        "while True:\n",
        "  umur = int(input())\n",
        "  if umur == 17:\n",
        "    continue\n",
        "  elif umur > 17:\n",
        "    break\n",
        "  print(\"Dibawah umur\")"
      ],
      "execution_count": null,
      "outputs": [
        {
          "name": "stdout",
          "output_type": "stream",
          "text": [
            "15\n",
            "Dibawah umur\n",
            "17\n",
            "18\n"
          ]
        }
      ]
    },
    {
      "cell_type": "code",
      "metadata": {
        "colab": {
          "base_uri": "https://localhost:8080/"
        },
        "id": "6hsPOvHxnGZQ",
        "outputId": "9488f246-d130-405f-c5c8-42a8782a5ad1"
      },
      "source": [
        "#for else\n",
        "for i in range(0,10,1):\n",
        "  print(i)\n",
        "#  if i == 8:\n",
        "#    break\n",
        "else:\n",
        "  print(\"Dah Habis, ngga pake break sih\")"
      ],
      "execution_count": null,
      "outputs": [
        {
          "output_type": "stream",
          "name": "stdout",
          "text": [
            "0\n",
            "1\n",
            "2\n",
            "3\n",
            "4\n",
            "5\n",
            "6\n",
            "7\n",
            "8\n",
            "9\n",
            "Dah Habis, ngga pake break sih\n"
          ]
        }
      ]
    },
    {
      "cell_type": "code",
      "metadata": {
        "id": "4WriQK8-nqCZ"
      },
      "source": [
        "#function\n",
        "def yangterbesar(a,b):\n",
        "  if a > b:\n",
        "    return a\n",
        "  else:\n",
        "    return b"
      ],
      "execution_count": null,
      "outputs": []
    },
    {
      "cell_type": "code",
      "metadata": {
        "colab": {
          "base_uri": "https://localhost:8080/"
        },
        "id": "na9kc5WfoKMt",
        "outputId": "44a6e8f4-3116-4d04-c479-dcb2c8426ba7"
      },
      "source": [
        "nilai1 = input()\n",
        "nilai2 = input()\n",
        "\n",
        "print(\"Yang paling gede ya \" + yangterbesar(nilai1,nilai2) + \" dong\")\n",
        "type(yangterbesar)"
      ],
      "execution_count": null,
      "outputs": [
        {
          "output_type": "stream",
          "name": "stdout",
          "text": [
            "9\n",
            "4\n",
            "Yang paling gede ya 9 dong\n"
          ]
        },
        {
          "output_type": "execute_result",
          "data": {
            "text/plain": [
              "function"
            ]
          },
          "metadata": {},
          "execution_count": 70
        }
      ]
    }
  ]
}