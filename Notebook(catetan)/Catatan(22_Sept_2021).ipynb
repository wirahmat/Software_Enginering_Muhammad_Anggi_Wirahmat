{
  "nbformat": 4,
  "nbformat_minor": 0,
  "metadata": {
    "colab": {
      "name": "Catatan(22 Sept 2021).ipynb",
      "provenance": [],
      "collapsed_sections": [],
      "authorship_tag": "ABX9TyOpOqOVvCMxRWX+Rq0Jgb8X",
      "include_colab_link": true
    },
    "kernelspec": {
      "name": "python3",
      "display_name": "Python 3"
    },
    "language_info": {
      "name": "python"
    }
  },
  "cells": [
    {
      "cell_type": "markdown",
      "metadata": {
        "id": "view-in-github",
        "colab_type": "text"
      },
      "source": [
        "<a href=\"https://colab.research.google.com/github/wirahmat/Software_Enginering_Muhammad_Anggi_Wirahmat/blob/main/Catatan(22_Sept_2021).ipynb\" target=\"_parent\"><img src=\"https://colab.research.google.com/assets/colab-badge.svg\" alt=\"Open In Colab\"/></a>"
      ]
    },
    {
      "cell_type": "code",
      "metadata": {
        "id": "myTdSTYGlgFR"
      },
      "source": [
        "#Contoh Variable di Python\n",
        "\n",
        "a = 10 #Integer\n",
        "b = 2.5 #Float\n",
        "c = \"Anggi\" #String\n",
        "d = True #Boolean\n",
        "e = False #Boolean\n",
        "f = [] #List\n",
        "g = {} #Dictionary\n",
        "h = () #Tuple\n",
        "\n",
        "#Integer, Float, String, Boolean, List, Dictionary, Tuple"
      ],
      "execution_count": null,
      "outputs": []
    },
    {
      "cell_type": "code",
      "metadata": {
        "id": "MEcrEmCWtsuW"
      },
      "source": [
        "List = [\"Wirahmat\", 20, True,[\"Anggi\"]]"
      ],
      "execution_count": null,
      "outputs": []
    },
    {
      "cell_type": "code",
      "metadata": {
        "colab": {
          "base_uri": "https://localhost:8080/"
        },
        "id": "pWoaLHQWpM58",
        "outputId": "69a744a4-dd0f-46aa-f58e-61d3b74bd566"
      },
      "source": [
        "#Print berguna untuk debugging\n",
        "print(c)"
      ],
      "execution_count": null,
      "outputs": [
        {
          "output_type": "stream",
          "name": "stdout",
          "text": [
            "Anggi\n"
          ]
        }
      ]
    },
    {
      "cell_type": "code",
      "metadata": {
        "colab": {
          "base_uri": "https://localhost:8080/"
        },
        "id": "R6yXjb7dptWd",
        "outputId": "7e7b1074-ebd3-4fcb-b2ab-c383db89c616"
      },
      "source": [
        "print(2+2*7)"
      ],
      "execution_count": null,
      "outputs": [
        {
          "output_type": "stream",
          "name": "stdout",
          "text": [
            "16\n"
          ]
        }
      ]
    },
    {
      "cell_type": "code",
      "metadata": {
        "colab": {
          "base_uri": "https://localhost:8080/"
        },
        "id": "O5XZ5Xqhr6fB",
        "outputId": "27cb7b9a-e59a-45a6-8f92-bb49886e723c"
      },
      "source": [
        "nama = input()"
      ],
      "execution_count": null,
      "outputs": [
        {
          "name": "stdout",
          "output_type": "stream",
          "text": [
            "Wirahmat\n"
          ]
        }
      ]
    },
    {
      "cell_type": "code",
      "metadata": {
        "id": "A6OIfP99pxv5"
      },
      "source": [
        "umur = 20\n",
        "rumah = \"Bumi\""
      ],
      "execution_count": null,
      "outputs": []
    },
    {
      "cell_type": "code",
      "metadata": {
        "colab": {
          "base_uri": "https://localhost:8080/"
        },
        "id": "L145wxlJqTuM",
        "outputId": "51ccecd6-3e57-4f1b-8d6b-b9c238ef521c"
      },
      "source": [
        "#Concatination\n",
        "print(\"Hai namaku adalah \" + nama +\", umurku \" + str(umur) +\", rumahku di \" + rumah)\n",
        "print(\"Hai namaku adalah {}, umurku {}, rumahku di {}\".format(nama,umur,rumah))\n"
      ],
      "execution_count": null,
      "outputs": [
        {
          "output_type": "stream",
          "name": "stdout",
          "text": [
            "Hai namaku adalah Wirahmat, umurku 20, rumahku di Bumi\n",
            "Hai namaku adalah Wirahmat , umurku 20, rumahku di Bumi\n"
          ]
        }
      ]
    },
    {
      "cell_type": "code",
      "metadata": {
        "id": "S1AAT3PdsEzb"
      },
      "source": [
        "import math\n",
        "a = 10\n",
        "b = 10\n",
        "# if else\n",
        "\n",
        "#Conditional Statement\n",
        "a == b \n",
        "a != b\n",
        "a < b\n",
        "a <= b\n",
        "a > b\n",
        "a >= b\n",
        "True and False\n",
        "False or True\n",
        "\n",
        "#operator\n",
        "a + b\n",
        "a - b\n",
        "a * b\n",
        "a / b # 10/10 = 1.0 --> hasilnya float (float division)\n",
        "a // b # 10//10 = 1 --> hasilnya integer (integer division)\n",
        "a ** b\n",
        "a % b\n",
        "a ** 1/2\n",
        "math.sqrt(a)\n"
      ],
      "execution_count": null,
      "outputs": []
    },
    {
      "cell_type": "code",
      "metadata": {
        "colab": {
          "base_uri": "https://localhost:8080/"
        },
        "id": "5atoBLW5s-Dd",
        "outputId": "533269cd-effe-436c-e476-90f581a582fd"
      },
      "source": [
        "import math\n",
        "math.sin(90)"
      ],
      "execution_count": null,
      "outputs": [
        {
          "output_type": "execute_result",
          "data": {
            "text/plain": [
              "0.8939966636005579"
            ]
          },
          "metadata": {},
          "execution_count": 13
        }
      ]
    },
    {
      "cell_type": "code",
      "metadata": {
        "colab": {
          "base_uri": "https://localhost:8080/"
        },
        "id": "XdxkZHwjtDCq",
        "outputId": "dccfd1f1-3045-4a97-a40f-dc803303bb9e"
      },
      "source": [
        "if a == 10:\n",
        "  print(\"a sama dengan 10\")\n",
        "elif a > 10:\n",
        "  print(\"a lebih dari 10\")\n",
        "else:\n",
        "  print(\"a kurang dari 10\")\n",
        "print(\"ini ngga masuk if\")"
      ],
      "execution_count": null,
      "outputs": [
        {
          "output_type": "stream",
          "name": "stdout",
          "text": [
            "a sama dengan 10\n",
            "ini ngga masuk if\n"
          ]
        }
      ]
    }
  ]
}
