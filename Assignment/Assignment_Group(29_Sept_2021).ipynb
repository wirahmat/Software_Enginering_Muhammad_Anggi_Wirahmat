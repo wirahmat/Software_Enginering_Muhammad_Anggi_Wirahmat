{
  "nbformat": 4,
  "nbformat_minor": 0,
  "metadata": {
    "colab": {
      "name": "Assignment (29 Sept 2021).ipynb",
      "provenance": [],
      "collapsed_sections": [],
      "authorship_tag": "ABX9TyNGAcRGlTwOAXUsj/KVM70p",
      "include_colab_link": true
    },
    "kernelspec": {
      "name": "python3",
      "display_name": "Python 3"
    },
    "language_info": {
      "name": "python"
    }
  },
  "cells": [
    {
      "cell_type": "markdown",
      "metadata": {
        "id": "view-in-github",
        "colab_type": "text"
      },
      "source": [
        "<a href=\"https://colab.research.google.com/github/wirahmat/Software_Enginering_Muhammad_Anggi_Wirahmat/blob/main/Assignment(29_Sept_2021).ipynb\" target=\"_parent\"><img src=\"https://colab.research.google.com/assets/colab-badge.svg\" alt=\"Open In Colab\"/></a>"
      ]
    },
    {
      "cell_type": "markdown",
      "metadata": {
        "id": "AkwhLziT0-JI"
      },
      "source": [
        "Andre Julian Putrawinata\n",
        "\n",
        "Muhammad Anggi Wirahmat\n",
        "\n",
        "Soal : Cari kuadran X dan Y"
      ]
    },
    {
      "cell_type": "code",
      "metadata": {
        "colab": {
          "base_uri": "https://localhost:8080/"
        },
        "id": "MpTCLbqdvBm0",
        "outputId": "be065815-f5d6-4e98-adec-e404d2cbce84"
      },
      "source": [
        "while True:\n",
        "  x = int(input(\"Masukkan X: \"))\n",
        "  y = int(input(\"Masukkan Y: \"))\n",
        "  if x > 0 and y > 0:\n",
        "    print(\"{},{} di Kuadran 1\".format(x,y))\n",
        "  elif x < 0 and y > 0:\n",
        "    print(\"{},{} di Kuadran 2\".format(x,y))\n",
        "  elif x < 0 and y < 0:\n",
        "    print(\"{},{} di Kuadran 3\".format(x,y))\n",
        "  elif x > 0 and y < 0:\n",
        "    print(\"{},{} di Kuadran 4\".format(x,y))\n",
        "  else:\n",
        "      break"
      ],
      "execution_count": 14,
      "outputs": [
        {
          "name": "stdout",
          "output_type": "stream",
          "text": [
            "Masukkan X: 2\n",
            "Masukkan Y: 4\n",
            "2,4 di Kuadran 1\n",
            "Masukkan X: 3\n",
            "Masukkan Y: 5\n",
            "3,5 di Kuadran 1\n",
            "Masukkan X: 6\n",
            "Masukkan Y: -2\n",
            "6,-2 di Kuadran 4\n",
            "Masukkan X: -2\n",
            "Masukkan Y: 3\n",
            "-2,3 di Kuadran 2\n",
            "Masukkan X: 0\n",
            "Masukkan Y: 7\n"
          ]
        }
      ]
    }
  ]
}