{
  "nbformat": 4,
  "nbformat_minor": 0,
  "metadata": {
    "colab": {
      "name": "Assignment(22 Sept 2021).ipynb",
      "provenance": [],
      "collapsed_sections": [],
      "authorship_tag": "ABX9TyOuEVSQJVxVA0ZCI5nKrUEJ",
      "include_colab_link": true
    },
    "kernelspec": {
      "name": "python3",
      "display_name": "Python 3"
    },
    "language_info": {
      "name": "python"
    }
  },
  "cells": [
    {
      "cell_type": "markdown",
      "metadata": {
        "id": "view-in-github",
        "colab_type": "text"
      },
      "source": [
        "<a href=\"https://colab.research.google.com/github/wirahmat/Software_Enginering_Muhammad_Anggi_Wirahmat/blob/main/Assignment(22_Sept_2021).ipynb\" target=\"_parent\"><img src=\"https://colab.research.google.com/assets/colab-badge.svg\" alt=\"Open In Colab\"/></a>"
      ]
    },
    {
      "cell_type": "markdown",
      "metadata": {
        "id": "OABCT9zzx4SZ"
      },
      "source": [
        "**Muhammad Anggi Wirahmat** \n",
        "\n",
        "Soal:\n",
        "\n",
        "a = input(), if else, untuk bedain dia kelipatan tiga atau bukan\n",
        "\n",
        "contoh:\n",
        "\n",
        "3 -> True\n",
        "\n",
        "9 -> True\n",
        "\n",
        "8 -> False\n",
        "\n",
        "10 -> False\n"
      ]
    },
    {
      "cell_type": "code",
      "metadata": {
        "colab": {
          "base_uri": "https://localhost:8080/"
        },
        "id": "AZBdr30Hx7ug",
        "outputId": "dde7dca6-edec-4092-81aa-7b0f871c67d9"
      },
      "source": [
        "a = input()\n",
        "a = int(a)\n",
        "\n",
        "if a % 3 == 0:\n",
        "  print(\"{} adalah kelipatan dari 3\".format(a))\n",
        "else:\n",
        "  print(\"{} bukan kelipatan dari 3\".format(a))"
      ],
      "execution_count": null,
      "outputs": [
        {
          "output_type": "stream",
          "name": "stdout",
          "text": [
            "1026\n",
            "1026 adalah kelipatan dari 3\n"
          ]
        }
      ]
    }
  ]
}
